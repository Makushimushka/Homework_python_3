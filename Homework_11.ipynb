{
 "cells": [
  {
   "cell_type": "markdown",
   "id": "d31eeb40",
   "metadata": {},
   "source": [
    "# Загрузка библиотек"
   ]
  },
  {
   "cell_type": "code",
   "execution_count": 1,
   "id": "1f6a2c9b",
   "metadata": {},
   "outputs": [],
   "source": [
    "from sympy import *\n",
    "from sympy.plotting import plot\n",
    "init_printing()"
   ]
  },
  {
   "cell_type": "markdown",
   "id": "dfa5e84c",
   "metadata": {},
   "source": [
    "# Домашняя работа № 11:\n",
    "\n",
    "Дана функция: $ f(x) = x^2 - 6*abs(x) +8 $"
   ]
  },
  {
   "cell_type": "code",
   "execution_count": 2,
   "id": "23c61a8d",
   "metadata": {},
   "outputs": [
    {
     "data": {
      "text/latex": [
       "$\\displaystyle x^{2} - 6 \\left|{x}\\right| + 8$"
      ],
      "text/plain": [
       " 2            \n",
       "x  - 6⋅│x│ + 8"
      ]
     },
     "execution_count": 2,
     "metadata": {},
     "output_type": "execute_result"
    }
   ],
   "source": [
    "x = Symbol(\"x\", real=True)\n",
    "y = x**2 - 6 * abs(x) + 8\n",
    "y"
   ]
  },
  {
   "cell_type": "markdown",
   "id": "0ebbbbff",
   "metadata": {},
   "source": [
    "## Задача 1. Определить корни."
   ]
  },
  {
   "cell_type": "code",
   "execution_count": 3,
   "id": "87cf2578",
   "metadata": {},
   "outputs": [
    {
     "data": {
      "text/latex": [
       "$\\displaystyle \\left[ -4, \\  -2, \\  2, \\  4\\right]$"
      ],
      "text/plain": [
       "[-4, -2, 2, 4]"
      ]
     },
     "execution_count": 3,
     "metadata": {},
     "output_type": "execute_result"
    }
   ],
   "source": [
    "res = solve(y)\n",
    "res"
   ]
  },
  {
   "cell_type": "markdown",
   "id": "34d149ad",
   "metadata": {},
   "source": [
    "## Задачи 2 и 3. Найти интервалы, на которых функция возрастает/убывает"
   ]
  },
  {
   "cell_type": "markdown",
   "id": "fc20a189",
   "metadata": {},
   "source": [
    "### Находим производную"
   ]
  },
  {
   "cell_type": "code",
   "execution_count": 4,
   "id": "02d07dc0",
   "metadata": {},
   "outputs": [
    {
     "data": {
      "text/latex": [
       "$\\displaystyle 2 x - 6 \\operatorname{sign}{\\left(x \\right)}$"
      ],
      "text/plain": [
       "2⋅x - 6⋅sign(x)"
      ]
     },
     "execution_count": 4,
     "metadata": {},
     "output_type": "execute_result"
    }
   ],
   "source": [
    "differ = diff(y)\n",
    "differ"
   ]
  },
  {
   "cell_type": "code",
   "execution_count": 19,
   "id": "6ce427cc",
   "metadata": {},
   "outputs": [
    {
     "data": {
      "image/png": "[encoded data removed]",
      "text/plain": [
       "<Figure size 432x288 with 1 Axes>"
      ]
     },
     "metadata": {
      "needs_background": "light"
     },
     "output_type": "display_data"
    },
    {
     "data": {
      "text/plain": [
       "<sympy.plotting.plot.Plot at 0x7fac318b1040>"
      ]
     },
     "execution_count": 19,
     "metadata": {},
     "output_type": "execute_result"
    }
   ],
   "source": [
    "plot(differ)"
   ]
  },
  {
   "cell_type": "markdown",
   "id": "d14dba59",
   "metadata": {},
   "source": [
    "### Корни производной"
   ]
  },
  {
   "cell_type": "code",
   "execution_count": 6,
   "id": "5ccca6c4",
   "metadata": {},
   "outputs": [
    {
     "data": {
      "text/latex": [
       "$\\displaystyle \\left[ 3\\right]$"
      ],
      "text/plain": [
       "[3]"
      ]
     },
     "execution_count": 6,
     "metadata": {},
     "output_type": "execute_result"
    }
   ],
   "source": [
    "ress_d = solve(differ)\n",
    "ress_d"
   ]
  },
  {
   "cell_type": "code",
   "execution_count": 7,
   "id": "25f4bb54",
   "metadata": {},
   "outputs": [
    {
     "data": {
      "text/latex": [
       "$\\displaystyle \\left[ -3, \\  0, \\  3\\right]$"
      ],
      "text/plain": [
       "[-3, 0, 3]"
      ]
     },
     "execution_count": 7,
     "metadata": {},
     "output_type": "execute_result"
    }
   ],
   "source": [
    "lst = [-3, 0, 3]\n",
    "lst"
   ]
  },
  {
   "cell_type": "markdown",
   "id": "9687a953",
   "metadata": {},
   "source": [
    "### Возрастает"
   ]
  },
  {
   "cell_type": "code",
   "execution_count": 8,
   "id": "1cee72af",
   "metadata": {},
   "outputs": [
    {
     "data": {
      "text/latex": [
       "$\\displaystyle \\left(-3 < x \\wedge x < 0\\right) \\vee 3 < x$"
      ],
      "text/plain": [
       "(-3 < x ∧ x < 0) ∨ 3 < x"
      ]
     },
     "execution_count": 8,
     "metadata": {},
     "output_type": "execute_result"
    }
   ],
   "source": [
    "solve(differ > 0)"
   ]
  },
  {
   "cell_type": "markdown",
   "id": "f37b3889",
   "metadata": {},
   "source": [
    "### Убывает"
   ]
  },
  {
   "cell_type": "code",
   "execution_count": 9,
   "id": "74ed5937",
   "metadata": {},
   "outputs": [
    {
     "data": {
      "text/latex": [
       "$\\displaystyle \\left(0 < x \\wedge x < 3\\right) \\vee x < -3$"
      ],
      "text/plain": [
       "(0 < x ∧ x < 3) ∨ x < -3"
      ]
     },
     "execution_count": 9,
     "metadata": {},
     "output_type": "execute_result"
    }
   ],
   "source": [
    "solve(differ < 0)"
   ]
  },
  {
   "cell_type": "markdown",
   "id": "76075b17",
   "metadata": {},
   "source": [
    "Убывает до - 3, затем растет до 0, затем убывает до трех, после чего опять растет."
   ]
  },
  {
   "cell_type": "markdown",
   "id": "427f99fb",
   "metadata": {},
   "source": [
    "## Задача 4. Построить график."
   ]
  },
  {
   "cell_type": "code",
   "execution_count": 20,
   "id": "d9f91aad",
   "metadata": {},
   "outputs": [
    {
     "data": {
      "image/png": "[encoded data removed]",
      "text/plain": [
       "<Figure size 432x288 with 1 Axes>"
      ]
     },
     "metadata": {
      "needs_background": "light"
     },
     "output_type": "display_data"
    },
    {
     "data": {
      "text/plain": [
       "<sympy.plotting.plot.Plot at 0x7fac3185dfd0>"
      ]
     },
     "execution_count": 20,
     "metadata": {},
     "output_type": "execute_result"
    }
   ],
   "source": [
    "plot(y, title=y)"
   ]
  },
  {
   "cell_type": "markdown",
   "id": "a032dae1",
   "metadata": {},
   "source": [
    "## Задача 5. Вычислить вершину."
   ]
  },
  {
   "cell_type": "code",
   "execution_count": 11,
   "id": "168e85da",
   "metadata": {},
   "outputs": [
    {
     "data": {
      "text/latex": [
       "$\\displaystyle \\left[ \\left( -3, \\  -1\\right), \\  \\left( 0, \\  8\\right), \\  \\left( 3, \\  -1\\right)\\right]$"
      ],
      "text/plain": [
       "[(-3, -1), (0, 8), (3, -1)]"
      ]
     },
     "execution_count": 11,
     "metadata": {},
     "output_type": "execute_result"
    }
   ],
   "source": [
    "res = []\n",
    "for i in lst:\n",
    "    res.append((i, y.subs(x, i)))\n",
    "res"
   ]
  },
  {
   "cell_type": "markdown",
   "id": "21fbf6cb",
   "metadata": {},
   "source": [
    "## Задача 6. Определить промежутки, на котором $ f > 0 $"
   ]
  },
  {
   "cell_type": "code",
   "execution_count": 12,
   "id": "5ee069a6",
   "metadata": {},
   "outputs": [
    {
     "data": {
      "text/latex": [
       "$\\displaystyle \\left(-2 < x \\wedge x < 2\\right) \\vee 4 < x \\vee x < -4$"
      ],
      "text/plain": [
       "(-2 < x ∧ x < 2) ∨ 4 < x ∨ x < -4"
      ]
     },
     "execution_count": 12,
     "metadata": {},
     "output_type": "execute_result"
    }
   ],
   "source": [
    "solve(y > 0)"
   ]
  },
  {
   "cell_type": "markdown",
   "id": "11659e0c",
   "metadata": {},
   "source": [
    "## Задача 7. Определить промежутки, на котором $ f < 0 $"
   ]
  },
  {
   "cell_type": "code",
   "execution_count": 18,
   "id": "b84d1649",
   "metadata": {},
   "outputs": [
    {
     "data": {
      "image/png": "[encoded data removed]",
      "text/latex": [
       "$\\displaystyle \\left(-4 < x \\wedge x < -2\\right) \\vee \\left(2 < x \\wedge x < 4\\right)$"
      ],
      "text/plain": [
       "(-4 < x ∧ x < -2) ∨ (2 < x ∧ x < 4)"
      ]
     },
     "execution_count": 18,
     "metadata": {},
     "output_type": "execute_result"
    }
   ],
   "source": [
    "solve(y < 0)"
   ]
  }
 ],
 "metadata": {
  "kernelspec": {
   "display_name": "Python 3",
   "language": "python",
   "name": "python3"
  },
  "language_info": {
   "codemirror_mode": {
    "name": "ipython",
    "version": 3
   },
   "file_extension": ".py",
   "mimetype": "text/x-python",
   "name": "python",
   "nbconvert_exporter": "python",
   "pygments_lexer": "ipython3",
   "version": "3.8.8"
  },
  "vscode": {
   "interpreter": {
    "hash": "b0fa6594d8f4cbf19f97940f81e996739fb7646882a419484c72d19e05852a7e"
   }
  }
 },
 "nbformat": 4,
 "nbformat_minor": 5
}
