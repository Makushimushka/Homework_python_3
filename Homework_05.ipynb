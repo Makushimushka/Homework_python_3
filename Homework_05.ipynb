{
 "cells": [
  {
   "cell_type": "code",
   "execution_count": 2,
   "id": "03429871",
   "metadata": {},
   "outputs": [],
   "source": [
    "import random"
   ]
  },
  {
   "cell_type": "markdown",
   "id": "0afa26b2",
   "metadata": {},
   "source": [
    "# Напишите программу, удаляющую из текста все слова, содержащие \"\"абв\"\".\n",
    "\n"
   ]
  },
  {
   "cell_type": "code",
   "execution_count": 17,
   "id": "e2a78a6a",
   "metadata": {},
   "outputs": [
    {
     "name": "stdout",
     "output_type": "stream",
     "text": [
      "Привет котёнок\n"
     ]
    }
   ],
   "source": [
    "def filters(text = \"Привет забвение котёнок абв\", filter_ = \"абв\"):\n",
    "    #text = \" \".join([x for x in text.split() if filter_ not in x])\n",
    "    text = \" \".join((filter(lambda x: \"абв\" not in x, text.split())))\n",
    "    print(text)\n",
    "filters()"
   ]
  },
  {
   "cell_type": "markdown",
   "id": "73990d85",
   "metadata": {},
   "source": [
    "# Создайте программу для игры с конфетами человек против человека.\n",
    "\n",
    "Условие задачи: На столе лежит 2021 конфета. Играют два игрока делая ход друг после друга. Первый ход определяется жеребьёвкой. За один ход можно забрать не более чем 28 конфет. Все конфеты оппонента достаются сделавшему последний ход. Сколько конфет нужно взять первому игроку, чтобы забрать все конфеты у своего конкурента?\n",
    "    \n",
    "a) Добавьте игру против бота\n",
    "\n",
    "b) Подумайте как наделить бота \"\"интеллектом\"\""
   ]
  },
  {
   "cell_type": "code",
   "execution_count": 2,
   "id": "f228553f",
   "metadata": {},
   "outputs": [],
   "source": [
    "def players_brain(n, m):\n",
    "    \"\"\"K - всего конфет\n",
    "    m - максимальное количество штук за один раз\"\"\"\n",
    "    if n % (m + 1) != 0:\n",
    "        return n % (m + 1)\n",
    "    elif m > n:\n",
    "        return n\n",
    "    else:\n",
    "        return random.randint(1, m)"
   ]
  },
  {
   "cell_type": "code",
   "execution_count": 3,
   "id": "f0708bbb",
   "metadata": {},
   "outputs": [],
   "source": [
    "def task_02(n = 2021, m = 28, players = ['Уася', 'Семён']):\n",
    "    player = random.randint(0, 1)\n",
    "    \n",
    "    while n > 0:\n",
    "        try:\n",
    "            if \"bot\" in players[player]:\n",
    "                user_input = players_brain(n, m)\n",
    "                #print(f\"Ход бота {user_input} :\")\n",
    "                print('{color}Ход {} {} : {endcolor}'.format(players[player], user_input, color='\\x1b[1;32m', endcolor='\\x1b[0m'))\n",
    "            else:\n",
    "                user_input = int(input(f\"Ход игрока {players[player]} :\"))\n",
    "            \n",
    "            if user_input <= m:\n",
    "                n = n - user_input\n",
    "                print(f\"Остаток: {n}\")\n",
    "                if n == 0:\n",
    "                    print(f\"Победа игрока {players[player]}\")\n",
    "                player = (lambda x : 1 if x == 0 else 0)(player)\n",
    "                \n",
    "            else:\n",
    "                print('{color}Введите число меньше {}! {endcolor}'.format(m, color='\\x1b[1;31m', endcolor='\\x1b[0m'))\n",
    "                    \n",
    "        except:\n",
    "            print('{color}Введите число меньше {}! {endcolor}'.format(m, color='\\x1b[1;31m', endcolor='\\x1b[0m'))\n"
   ]
  },
  {
   "cell_type": "code",
   "execution_count": null,
   "id": "9bf30e43",
   "metadata": {},
   "outputs": [
    {
     "name": "stdout",
     "output_type": "stream",
     "text": [
      "Ход игрока Макс :22\n",
      "Остаток: 1999\n",
      "\u001b[1;32mХод bot_1 27 : \u001b[0m\n",
      "Остаток: 1972\n",
      "Ход игрока Макс :12\n",
      "Остаток: 1960\n",
      "\u001b[1;32mХод bot_1 17 : \u001b[0m\n",
      "Остаток: 1943\n"
     ]
    }
   ],
   "source": [
    "task_02(n = 2021, m = 28, players = ['Макс', 'bot_1'])"
   ]
  },
  {
   "cell_type": "markdown",
   "id": "58a36dab",
   "metadata": {},
   "source": [
    "# Создайте программу для игры в \"\"Крестики-нолики\"\".\n",
    "\n"
   ]
  },
  {
   "cell_type": "code",
   "execution_count": 31,
   "id": "2ac3cb08",
   "metadata": {},
   "outputs": [],
   "source": [
    "def game_board(board):\n",
    "    print(\"_\" * 13)\n",
    "    for i in range(3):\n",
    "        \n",
    "        print(\"| {} | {} | {} |\".format(board[0 + i * 3], board[1 + i * 3], board[2 + i * 3]))\n",
    "        print(\"_\" * 13)\n",
    "    "
   ]
  },
  {
   "cell_type": "code",
   "execution_count": 32,
   "id": "b9e7e011",
   "metadata": {},
   "outputs": [],
   "source": [
    "def victory(moves, player): \n",
    "\n",
    "    w_combination = [[1, 2, 3], [4, 5, 6], [7, 8, 9], [1, 4, 7], [2, 5, 8], [3, 6, 9], [1, 5, 9], [3, 5, 7]] \n",
    "    for i in w_combination: \n",
    "        if all(j in moves[player] for j in i): \n",
    "            return True \n",
    "    return False "
   ]
  },
  {
   "cell_type": "code",
   "execution_count": 41,
   "id": "d40f6f93",
   "metadata": {},
   "outputs": [],
   "source": [
    "def task_03(players = ['X', 'Y']):\n",
    "    board = [i for i in range(1, 10)]\n",
    "    player = 0\n",
    "    n = 0\n",
    "    moves = {'X' : [], 'Y' : []} \n",
    "    \n",
    "    while n < 9:\n",
    "        try:        \n",
    "            game_board(board)\n",
    "            user_input = int(input(f\"Игрок {players[player]} введите номер ячейки для хода: \"))\n",
    "            if user_input in board:\n",
    "                board[board.index(user_input)] = players[player]\n",
    "                moves[players[player]].append(user_input)\n",
    "                if victory(moves, players[player]):\n",
    "                    print('{color}Победил {}! {endcolor}'.format(players[player], color='\\x1b[1;31m', endcolor='\\x1b[0m'))\n",
    "                    break\n",
    "                player = (lambda x : 1 if x == 0 else 0)(player)\n",
    "                n += 1\n",
    "            else:\n",
    "                print(\"Ячейка занята, используйте другую\")\n",
    "        except:\n",
    "            print(\"Что то пошло не так попробуйте заново\")\n",
    "    game_board(board)\n",
    "    print(moves)"
   ]
  },
  {
   "cell_type": "code",
   "execution_count": 42,
   "id": "7ded9d67",
   "metadata": {},
   "outputs": [
    {
     "name": "stdout",
     "output_type": "stream",
     "text": [
      "_____________\n",
      "| 1 | 2 | 3 |\n",
      "_____________\n",
      "| 4 | 5 | 6 |\n",
      "_____________\n",
      "| 7 | 8 | 9 |\n",
      "_____________\n",
      "Игрок X введите номер ячейки для хода: 1\n",
      "_____________\n",
      "| X | 2 | 3 |\n",
      "_____________\n",
      "| 4 | 5 | 6 |\n",
      "_____________\n",
      "| 7 | 8 | 9 |\n",
      "_____________\n",
      "Игрок Y введите номер ячейки для хода: 2\n",
      "_____________\n",
      "| X | Y | 3 |\n",
      "_____________\n",
      "| 4 | 5 | 6 |\n",
      "_____________\n",
      "| 7 | 8 | 9 |\n",
      "_____________\n",
      "Игрок X введите номер ячейки для хода: 4\n",
      "_____________\n",
      "| X | Y | 3 |\n",
      "_____________\n",
      "| X | 5 | 6 |\n",
      "_____________\n",
      "| 7 | 8 | 9 |\n",
      "_____________\n",
      "Игрок Y введите номер ячейки для хода: 6\n",
      "_____________\n",
      "| X | Y | 3 |\n",
      "_____________\n",
      "| X | 5 | Y |\n",
      "_____________\n",
      "| 7 | 8 | 9 |\n",
      "_____________\n",
      "Игрок X введите номер ячейки для хода: 7\n",
      "\u001b[1;31mПобедил X! \u001b[0m\n",
      "_____________\n",
      "| X | Y | 3 |\n",
      "_____________\n",
      "| X | 5 | Y |\n",
      "_____________\n",
      "| X | 8 | 9 |\n",
      "_____________\n",
      "{'X': [1, 4, 7], 'Y': [2, 6]}\n"
     ]
    }
   ],
   "source": [
    "task_03(players = ['X', 'Y'])"
   ]
  },
  {
   "cell_type": "markdown",
   "id": "91e29605",
   "metadata": {},
   "source": [
    "# Реализуйте RLE алгоритм: реализуйте модуль сжатия и восстановления данных.\n",
    "\n",
    "Входные и выходные данные хранятся в отдельных текстовых файлах."
   ]
  },
  {
   "cell_type": "code",
   "execution_count": 160,
   "id": "960c32ed",
   "metadata": {},
   "outputs": [],
   "source": [
    "with open('file_1.txt', 'w') as mnogochlen1:\n",
    "        mnogochlen1.write(\"WWWWWWWWWWWWBWWWWWWWWWWWWBBBWWWWWWWWWWWWWWWWWWWWWWWWBWWWWWWWWWWWWWWBBB\")"
   ]
  },
  {
   "cell_type": "code",
   "execution_count": 161,
   "id": "a09fe820",
   "metadata": {},
   "outputs": [],
   "source": [
    "def enigma(file_name = \"file_1\"):\n",
    "    f_1 = open(f'{file_name}.txt').read()\n",
    "    result = \"\"\n",
    "    start = 0\n",
    "    for i in range(len(f_1)):\n",
    "        if i == (len(f_1) - 1):\n",
    "            result = result + str(i - start + 1) + f_1[start]\n",
    "        elif f_1[start] == f_1[i] and i < len(f_1):\n",
    "            pass\n",
    "            #result = result + str(i - start) + f_1[start]\n",
    "        else:\n",
    "            result = result + str(i - start) + f_1[start]\n",
    "            start = i\n",
    "    print(result)\n",
    "    return result"
   ]
  },
  {
   "cell_type": "code",
   "execution_count": 162,
   "id": "b7729ebb",
   "metadata": {},
   "outputs": [
    {
     "name": "stdout",
     "output_type": "stream",
     "text": [
      "12W1B12W3B24W1B14W3B\n"
     ]
    }
   ],
   "source": [
    "with open('result.txt', 'w', encoding='utf-8') as file:\n",
    "        file.write(enigma(file_name = \"file_1\"))"
   ]
  },
  {
   "cell_type": "code",
   "execution_count": 163,
   "id": "ad3f012d",
   "metadata": {},
   "outputs": [],
   "source": [
    "def enigma_dec(file_name = \"result\"):\n",
    "    f_1 = open(f'{file_name}.txt').read()\n",
    "    result = \"\"\n",
    "    number = \"\"\n",
    "    for i in range(len(f_1)):\n",
    "        if not f_1[i].isalpha():\n",
    "            number += f_1[i]\n",
    "        else:\n",
    "            result = result + f_1[i] * int(number)\n",
    "            number = ''\n",
    "    return result"
   ]
  },
  {
   "cell_type": "code",
   "execution_count": 164,
   "id": "8987403e",
   "metadata": {},
   "outputs": [
    {
     "data": {
      "text/plain": [
       "'WWWWWWWWWWWWBWWWWWWWWWWWWBBBWWWWWWWWWWWWWWWWWWWWWWWWBWWWWWWWWWWWWWWBBB'"
      ]
     },
     "execution_count": 164,
     "metadata": {},
     "output_type": "execute_result"
    }
   ],
   "source": [
    "enigma_dec(file_name = \"result\")"
   ]
  }
 ],
 "metadata": {
  "kernelspec": {
   "display_name": "Python 3",
   "language": "python",
   "name": "python3"
  },
  "language_info": {
   "codemirror_mode": {
    "name": "ipython",
    "version": 3
   },
   "file_extension": ".py",
   "mimetype": "text/x-python",
   "name": "python",
   "nbconvert_exporter": "python",
   "pygments_lexer": "ipython3",
   "version": "3.8.8"
  }
 },
 "nbformat": 4,
 "nbformat_minor": 5
}
