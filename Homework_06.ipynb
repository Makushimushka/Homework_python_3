{
 "cells": [
  {
   "attachments": {},
   "cell_type": "markdown",
   "id": "c15a4b31",
   "metadata": {},
   "source": [
    "# 1. Орел и решка!\n",
    "\n",
    "Дана строка текста, состоящая из букв русского алфавита \"О\" и \"Р\". Буква \"О\" – соответствует выпадению Орла, а буква \"Р\" – соответствует выпадению Решки. Напишите программу, которая подсчитывает наибольшее количество подряд выпавших Решек.\n",
    "\n",
    "Формат входных данных:\n",
    "На вход программе подается строка текста, состоящая из букв русского алфавита \"О\" и \"Р\".\n",
    "\n",
    "Формат выходных данных:\n",
    "Программа должна вывести наибольшее количество подряд выпавших Решек.\n",
    "\n",
    "Примечание. Если выпавших Решек нет, то необходимо вывести число 0.\n",
    "Входные данные\tВыходные данные\n",
    "ОРРОРОРООРРРО\t3\n",
    "ООООООРРРОРОРРРРРРР\n",
    "\t7\n",
    "ООООРРРРОРОРРРРРРРРООРОРОРРРРРРРРРРРРРРРРРРРРРРРРРРРРРРР\n",
    "\t31\n",
    "\n",
    "\n"
   ]
  },
  {
   "cell_type": "code",
   "execution_count": 13,
   "id": "4a1fcea5",
   "metadata": {},
   "outputs": [],
   "source": [
    "def eagle_and_tails(input_values = \"ОРрОРОРООРРРО\"):\n",
    "    input_values = input_values.upper()\n",
    "    print(f\"Входные данные {input_values}.\", end = \" \")\n",
    "    #input_values = list(map(lambda x: x if x == \"Р\" else \" \", input_values))\n",
    "    input_values = \"\".join(input_values).split(\"О\")\n",
    "    input_values = max(list(map(len, input_values)))\n",
    "    print(f\"Выходные данные: {input_values}\")"
   ]
  },
  {
   "cell_type": "code",
   "execution_count": 14,
   "id": "69a0c9f2",
   "metadata": {},
   "outputs": [
    {
     "name": "stdout",
     "output_type": "stream",
     "text": [
      "Входные данные ОРРОРОРООРРРО. Выходные данные: 3\n",
      "Входные данные ООООООРРРОРОРРРРРРР. Выходные данные: 7\n",
      "Входные данные ООООРРРРОРОРРРРРРРРООРОРОРРРРРРРРРРРРРРРРРРРРРРРРРРРРРРР. Выходные данные: 31\n"
     ]
    }
   ],
   "source": [
    "for i in ['ОРРОРОРООРРРО', 'ООООООРРРОРОРРРРРРР', 'ООООРРРРОРОРРРРРРРРООРОРОРРРРРРРРРРРРРРРРРРРРРРРРРРРРРРР']:\n",
    "    eagle_and_tails(i)"
   ]
  },
  {
   "cell_type": "markdown",
   "id": "cbe92803",
   "metadata": {},
   "source": [
    "# 2.\tИзмените код одной из решенных ранее задач (любой, с прошлых семинаров), применив лямбды, filter, map, zip, enumerate, списочные выражения."
   ]
  },
  {
   "cell_type": "code",
   "execution_count": 15,
   "id": "ce94279f",
   "metadata": {},
   "outputs": [
    {
     "name": "stdout",
     "output_type": "stream",
     "text": [
      "на нечётных позициях элементы  3, 9. Ответ:  12\n"
     ]
    }
   ],
   "source": [
    "# ## 1.\tЗадайте список из нескольких чисел. Напишите программу,\n",
    "# которая найдёт сумму элементов списка, стоящих на нечётной позиции.\n",
    "# Пример:\n",
    "# -\t[2, 3, 5, 9, 3] -> на нечётных позициях элементы 3 и 9, ответ: 12\n",
    "\n",
    "def old(our_list = [2, 3, 5, 9, 3]):\n",
    "    result = 0\n",
    "    odd_numbers = []\n",
    "    for i in range(1, len(our_list), 2):\n",
    "        result += our_list[i]\n",
    "        odd_numbers.append(our_list[i])\n",
    "    print(\"на нечётных позициях элементы  {}. Ответ: \".format(\", \".join(str(x) for x in odd_numbers)), result)\n",
    "old()"
   ]
  },
  {
   "cell_type": "code",
   "execution_count": 16,
   "id": "c21b1187",
   "metadata": {},
   "outputs": [
    {
     "name": "stdout",
     "output_type": "stream",
     "text": [
      "на нечётных позициях элементы  3, 9. Ответ:  12\n"
     ]
    }
   ],
   "source": [
    "def new(our_list = [2, 3, 5, 9, 3]):\n",
    "    result = [our_list[i] for i in range(len(our_list)) if i%2 != 0]\n",
    "    print(\"на нечётных позициях элементы  {}. Ответ: \".format(\", \".join(str(x) for x in result)), sum(result))\n",
    "new()"
   ]
  },
  {
   "cell_type": "code",
   "execution_count": null,
   "id": "4732c67e",
   "metadata": {},
   "outputs": [],
   "source": [
    "\n"
   ]
  }
 ],
 "metadata": {
  "kernelspec": {
   "display_name": "Python 3",
   "language": "python",
   "name": "python3"
  },
  "language_info": {
   "codemirror_mode": {
    "name": "ipython",
    "version": 3
   },
   "file_extension": ".py",
   "mimetype": "text/x-python",
   "name": "python",
   "nbconvert_exporter": "python",
   "pygments_lexer": "ipython3",
   "version": "3.8.8"
  }
 },
 "nbformat": 4,
 "nbformat_minor": 5
}
