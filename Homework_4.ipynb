{
 "cells": [
  {
   "cell_type": "code",
   "execution_count": 54,
   "metadata": {},
   "outputs": [],
   "source": [
    "import math\n",
    "import random"
   ]
  },
  {
   "cell_type": "markdown",
   "metadata": {},
   "source": [
    "# 1.\tВычислить число c заданной точностью d\n",
    "Пример:\n",
    "-\tпри $d = 0.001, π = 3.141.$ $10^{-1} ≤ d ≤10^{-10}$"
   ]
  },
  {
   "cell_type": "code",
   "execution_count": 55,
   "metadata": {},
   "outputs": [
    {
     "name": "stdout",
     "output_type": "stream",
     "text": [
      "С какой точностью вывести число π?: 0.0001\n",
      "3.1416\n"
     ]
    }
   ],
   "source": [
    "def task_01():\n",
    "    # В примере дано именно число float, а не просто число после запятой. Странно как то\n",
    "    d = input(\"С какой точностью вывести число π?: \")\n",
    "    d = abs(d.find('.') - len(d)) - 1\n",
    "    print(round(math.pi, d))\n",
    "task_01()"
   ]
  },
  {
   "cell_type": "markdown",
   "metadata": {},
   "source": [
    "# 2.\tЗадайте натуральное число N. Напишите программу, которая составит список простых множителей числа N."
   ]
  },
  {
   "cell_type": "code",
   "execution_count": 56,
   "metadata": {},
   "outputs": [
    {
     "name": "stdout",
     "output_type": "stream",
     "text": [
      "[13]\n"
     ]
    }
   ],
   "source": [
    "def task_02(n):\n",
    "    result = []\n",
    "    divi = 2\n",
    "    while (divi <= n):\n",
    "        if (n % divi == 0):\n",
    "            result.append(divi)\n",
    "            n = n / divi\n",
    "        else:\n",
    "            divi = divi + 1\n",
    "    print(result)\n",
    "task_02(13)     "
   ]
  },
  {
   "cell_type": "markdown",
   "metadata": {},
   "source": [
    "# 3.\tЗадайте последовательность чисел. Напишите программу, которая выведет список неповторяющихся элементов исходной последовательности."
   ]
  },
  {
   "cell_type": "code",
   "execution_count": 57,
   "metadata": {},
   "outputs": [
    {
     "name": "stdout",
     "output_type": "stream",
     "text": [
      "[1, 2, 8]\n"
     ]
    }
   ],
   "source": [
    "def task_03(spisok = [1, 2, 4, 5, 7, 5, 8, 4, 4, 7]):\n",
    "    result = {}\n",
    "    \n",
    "    for i in spisok:\n",
    "        if i in result:\n",
    "            result[i] += 1\n",
    "        else:\n",
    "            result[i] = 1\n",
    "    print([k for (k, v) in result.items() if v == 1])\n",
    "task_03()"
   ]
  },
  {
   "cell_type": "markdown",
   "metadata": {},
   "source": [
    "# 4.\tЗадана натуральная степень k. Сформировать случайным образом список коэффициентов (значения от 0 до 100) многочлена и записать в файл многочлен степени k.\n",
    "Пример:\n",
    "-\tk=2 => 2x² + 4x + 5 = 0 или x² + 5 = 0 или 10*x² = 0\n"
   ]
  },
  {
   "cell_type": "code",
   "execution_count": 34,
   "metadata": {},
   "outputs": [],
   "source": [
    "def task_04():\n",
    "    k = 50 #int(input(\"Введите степень K: \"))\n",
    "    koef = [random.randint(0, 100) for i in range(k + 1)]\n",
    "    result = ''\n",
    "    if k < 1:\n",
    "        result = 'x = 0'\n",
    "    for i in range(k, -1, -1):\n",
    "        if koef[i] != 0 and i > 1:\n",
    "            result += f'{koef[i]}x^{i} + '\n",
    "            #result += ' + '\n",
    "        elif i == 1 and koef[i] != 0:\n",
    "            result += f'{koef[i]}x + '\n",
    "        elif i == 0:\n",
    "            result += f'{koef[i]}'\n",
    "    result += ' = 0'\n",
    "    with open('result.txt', 'w') as data:\n",
    "        data.write(result)\n",
    "task_04()"
   ]
  },
  {
   "cell_type": "markdown",
   "metadata": {},
   "source": [
    "# 5.\tДаны два файла, в каждом из которых находится запись многочлена. Задача - сформировать файл, содержащий сумму многочленов."
   ]
  },
  {
   "cell_type": "code",
   "execution_count": 281,
   "metadata": {},
   "outputs": [],
   "source": [
    "with open('mnogochlen1.txt', 'w') as mnogochlen1:\n",
    "        mnogochlen1.write(\"x**2 + 5*x + 2\")\n",
    "with open('mnogochlen2.txt', 'w') as mnogochlen2:\n",
    "        mnogochlen2.write(\"x**2 - 5*x + 3\")"
   ]
  },
  {
   "cell_type": "code",
   "execution_count": 277,
   "metadata": {},
   "outputs": [],
   "source": [
    "# Возьмем что x = 5\n",
    "f_1 = open('mnogochlen1.txt').read().replace(\"x\", \"5\").split(\" \")\n",
    "f_2 = open('mnogochlen2.txt').read().replace(\"x\", \"5\").split(\" \")"
   ]
  },
  {
   "cell_type": "code",
   "execution_count": 278,
   "metadata": {},
   "outputs": [],
   "source": [
    "def exponentiation(file):\n",
    "    \n",
    "    for i in range(len(file)):\n",
    "        try:\n",
    "            \n",
    "            if \"**\" in file[i]:\n",
    "                temp = file[i].split(\"**\")\n",
    "                file[i] = float(temp[0]) ** float(temp[1])\n",
    "        \n",
    "            elif \"*\" in file[i]:\n",
    "                temp = file[i].split(\"*\")\n",
    "                file[i] = float(temp[0]) * float(temp[1])\n",
    "        except:\n",
    "            pass\n",
    "    for i in range(len(file)):\n",
    "        if \"+\" == file[i]:\n",
    "            file[i] = float(file[i-1]) + float(file[i+1])\n",
    "            file.pop(i-1)\n",
    "            file.pop(i)\n",
    "            break\n",
    "        if \"-\" == file[i]:\n",
    "            file[i] = float(file[i-1]) - float(file[i+1])\n",
    "            file.pop(i-1)\n",
    "            file.pop(i)\n",
    "            break\n",
    "    \n",
    "    if len(file) == 1:\n",
    "        return 0\n",
    "    else:\n",
    "        exponentiation(file)\n",
    "        "
   ]
  },
  {
   "cell_type": "code",
   "execution_count": 283,
   "metadata": {},
   "outputs": [],
   "source": [
    "def task_005():\n",
    "    exponentiation(f_1)\n",
    "    exponentiation(f_2)\n",
    "\n",
    "    with open('sum_pol.txt', 'w', encoding='utf-8') as file:\n",
    "        file.write(f\"При x = 5 сумма многочленов {open('mnogochlen1.txt').read()} и {open('mnogochlen1.txt').read()} равна : {f_1[0] + f_2[0]}\")\n",
    "    "
   ]
  },
  {
   "cell_type": "code",
   "execution_count": 284,
   "metadata": {},
   "outputs": [],
   "source": [
    "task_005()"
   ]
  }
 ],
 "metadata": {
  "kernelspec": {
   "display_name": "Python 3",
   "language": "python",
   "name": "python3"
  }
 },
 "nbformat": 4,
 "nbformat_minor": 4
}
